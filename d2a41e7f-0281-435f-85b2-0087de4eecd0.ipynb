{
 "cells": [
  {
   "cell_type": "markdown",
   "id": "5bc58c16",
   "metadata": {},
   "source": [
    "<div style=\"border:solid Chocolate 2px; padding: 40px\">\n",
    "\n",
    "<b>Привет!👋</b>\n",
    "\n",
    "Меня зовут Огурлиев Анзор, я буду ревьюером твоего проекта. Сразу хочу предложить тебе общаться на \"ты\", если тебе это неудобно, скажи мне об этом. Нам предстоит пройти с тобой через тернистый и от того интересный путь анализа данных! Можешь не переживать, я всегда помогу тебе, если у тебя возникнут вопросы)\n",
    "\n",
    "По ходу твоей работы я буду оставлять свои комментарии, по выполненным тобой шагам. Попрошу тебя не удалять их, так мне будет проще отслеживать твой прогресс в случае повторной проверки. \n",
    "    \n",
    "Очень важно вести диалог и обсуждать те пункты, которые у тебя могли не получиться, поэтому, ты можешь оставлять свои комментарии, и мы обязательно во всем разберемся! Самое главное - выделяй свои комментарии удобным для тебя способом (цвет, рамка), но так, чтобы они отчетлитво отличались от моих комментариев. Так мы ни в чем не запутаемся)\n",
    "\n",
    "Свои комментарии я буду выделять так: <font color='green'>зеленый</font>, <font color='gold'>желтый</font> и <font color='red'>красный</font> цвет, например:\n",
    "\n",
    "<br/>\n",
    "\n",
    "<div class=\"alert alert-success\">\n",
    "<h2> Комментарий ревьюера V1<a class=\"tocSkip\"> </h2>\n",
    "\n",
    "<b>Все отлично!👍:</b> Этот комментарий я буду оставлять, если твое решение оптимально для данного шага.\n",
    "</div>\n",
    "\n",
    "<br/>\n",
    "\n",
    "<div class=\"alert alert-warning\">\n",
    "    <h2> Комментарий ревьюера V1<a class=\"tocSkip\"> </h2>\n",
    "    \n",
    "<b>Некоторые замечания и рекомендации💡:</b> Это не означает, что ты совершил ошибку. Такими комментариями я буду отмечать места, где ты справился с задачей, но её можно решить ещё лучше. Также в таких комментариях я буду оставлять для тебя другие советы.\n",
    "</div>\n",
    "\n",
    "\n",
    "<br/>\n",
    "<div class=\"alert alert-block alert-danger\">\n",
    "<h2> Комментарий ревьюера V1<a class=\"tocSkip\"></h2>\n",
    "\n",
    "    \n",
    "<b>На доработку🤔:</b>\n",
    "Если решение, которое ты применил на определенном шаге, требует значительных изменений, то я буду оставлять такой комментарий. Тебе нужно будет подумать еще раз как правильным образом решить данный этап. Если ревью содержит такие комментарии, то я не смогу принять проект с первого раза.\n",
    "</div>\n",
    "    \n",
    "P.S. В оглавлении комментария ты увидишь `V1` (`V1`, `V2`, `V3`) - это версия моего комментария, которая понадобится нам с тобой, чтобы не запутаться, если потребуется оставить тебе комментарии после первой проверки."
   ]
  },
  {
   "cell_type": "markdown",
   "id": "ffe4b479",
   "metadata": {
    "deletable": false,
    "editable": false,
    "id": "c81daeeb"
   },
   "source": [
    "# Исследование надежности заемщиков\n"
   ]
  },
  {
   "cell_type": "markdown",
   "id": "95c5c6f3",
   "metadata": {
    "deletable": false,
    "editable": false,
    "id": "827c20bf"
   },
   "source": [
    "Во второй части проекта вы выполните шаги 3 и 4. Их вручную проверит ревьюер.\n",
    "Чтобы вам не пришлось писать код заново для шагов 1 и 2, мы добавили авторские решения в ячейки с кодом. \n",
    "\n"
   ]
  },
  {
   "cell_type": "markdown",
   "id": "5a54604c",
   "metadata": {},
   "source": [
    "<div class=\"alert alert-success\">\n",
    "<h2> Комментарий ревьюера V1<a class=\"tocSkip\"> </h2>\n",
    "\n",
    "<b>Все отлично!👍:</b> В самом начале ты можешь кратко описать исследуемый тобой вопрос. Это не является обязательным критерием для выполнения задания, однако краткое описание - хорошая практика. Уверен, она пригодится тебе на твоей работе, когда твои коллеги сразу смогут определить то, что ты будешь исследовать.\n",
    "</div>"
   ]
  },
  {
   "cell_type": "markdown",
   "id": "6e7d4e62",
   "metadata": {
    "deletable": false,
    "editable": false,
    "id": "744d7639"
   },
   "source": [
    "## Откройте таблицу и изучите общую информацию о данных"
   ]
  },
  {
   "cell_type": "markdown",
   "id": "500a4d9a",
   "metadata": {
    "deletable": false,
    "editable": false,
    "id": "e7a14c31"
   },
   "source": [
    "**Задание 1. Импортируйте библиотеку pandas. Считайте данные из csv-файла в датафрейм и сохраните в переменную `data`. Путь к файлу:**\n",
    "\n",
    "`/datasets/data.csv`"
   ]
  },
  {
   "cell_type": "code",
   "execution_count": 1,
   "id": "4fac6b25",
   "metadata": {
    "deletable": false,
    "id": "7bcf75c9"
   },
   "outputs": [],
   "source": [
    "import pandas as pd\n",
    "\n",
    "try:\n",
    "    data = pd.read_csv('/datasets/data.csv')\n",
    "except:\n",
    "    data = pd.read_csv('https://code.s3.yandex.net/datasets/data.csv')"
   ]
  },
  {
   "cell_type": "markdown",
   "id": "88683b95",
   "metadata": {
    "deletable": false,
    "editable": false,
    "id": "b8038fe3"
   },
   "source": [
    "**Задание 2. Выведите первые 20 строчек датафрейма `data` на экран.**"
   ]
  },
  {
   "cell_type": "code",
   "execution_count": 2,
   "id": "bafa0748",
   "metadata": {
    "deletable": false,
    "id": "2a7cab99",
    "outputId": "1a8f3ef2-d323-4ec2-ddf7-89670b5944c4"
   },
   "outputs": [
    {
     "data": {
      "text/html": [
       "<div>\n",
       "<style scoped>\n",
       "    .dataframe tbody tr th:only-of-type {\n",
       "        vertical-align: middle;\n",
       "    }\n",
       "\n",
       "    .dataframe tbody tr th {\n",
       "        vertical-align: top;\n",
       "    }\n",
       "\n",
       "    .dataframe thead th {\n",
       "        text-align: right;\n",
       "    }\n",
       "</style>\n",
       "<table border=\"1\" class=\"dataframe\">\n",
       "  <thead>\n",
       "    <tr style=\"text-align: right;\">\n",
       "      <th></th>\n",
       "      <th>children</th>\n",
       "      <th>days_employed</th>\n",
       "      <th>dob_years</th>\n",
       "      <th>education</th>\n",
       "      <th>education_id</th>\n",
       "      <th>family_status</th>\n",
       "      <th>family_status_id</th>\n",
       "      <th>gender</th>\n",
       "      <th>income_type</th>\n",
       "      <th>debt</th>\n",
       "      <th>total_income</th>\n",
       "      <th>purpose</th>\n",
       "    </tr>\n",
       "  </thead>\n",
       "  <tbody>\n",
       "    <tr>\n",
       "      <th>0</th>\n",
       "      <td>1</td>\n",
       "      <td>-8437.673028</td>\n",
       "      <td>42</td>\n",
       "      <td>высшее</td>\n",
       "      <td>0</td>\n",
       "      <td>женат / замужем</td>\n",
       "      <td>0</td>\n",
       "      <td>F</td>\n",
       "      <td>сотрудник</td>\n",
       "      <td>0</td>\n",
       "      <td>253875.639453</td>\n",
       "      <td>покупка жилья</td>\n",
       "    </tr>\n",
       "    <tr>\n",
       "      <th>1</th>\n",
       "      <td>1</td>\n",
       "      <td>-4024.803754</td>\n",
       "      <td>36</td>\n",
       "      <td>среднее</td>\n",
       "      <td>1</td>\n",
       "      <td>женат / замужем</td>\n",
       "      <td>0</td>\n",
       "      <td>F</td>\n",
       "      <td>сотрудник</td>\n",
       "      <td>0</td>\n",
       "      <td>112080.014102</td>\n",
       "      <td>приобретение автомобиля</td>\n",
       "    </tr>\n",
       "    <tr>\n",
       "      <th>2</th>\n",
       "      <td>0</td>\n",
       "      <td>-5623.422610</td>\n",
       "      <td>33</td>\n",
       "      <td>Среднее</td>\n",
       "      <td>1</td>\n",
       "      <td>женат / замужем</td>\n",
       "      <td>0</td>\n",
       "      <td>M</td>\n",
       "      <td>сотрудник</td>\n",
       "      <td>0</td>\n",
       "      <td>145885.952297</td>\n",
       "      <td>покупка жилья</td>\n",
       "    </tr>\n",
       "    <tr>\n",
       "      <th>3</th>\n",
       "      <td>3</td>\n",
       "      <td>-4124.747207</td>\n",
       "      <td>32</td>\n",
       "      <td>среднее</td>\n",
       "      <td>1</td>\n",
       "      <td>женат / замужем</td>\n",
       "      <td>0</td>\n",
       "      <td>M</td>\n",
       "      <td>сотрудник</td>\n",
       "      <td>0</td>\n",
       "      <td>267628.550329</td>\n",
       "      <td>дополнительное образование</td>\n",
       "    </tr>\n",
       "    <tr>\n",
       "      <th>4</th>\n",
       "      <td>0</td>\n",
       "      <td>340266.072047</td>\n",
       "      <td>53</td>\n",
       "      <td>среднее</td>\n",
       "      <td>1</td>\n",
       "      <td>гражданский брак</td>\n",
       "      <td>1</td>\n",
       "      <td>F</td>\n",
       "      <td>пенсионер</td>\n",
       "      <td>0</td>\n",
       "      <td>158616.077870</td>\n",
       "      <td>сыграть свадьбу</td>\n",
       "    </tr>\n",
       "    <tr>\n",
       "      <th>5</th>\n",
       "      <td>0</td>\n",
       "      <td>-926.185831</td>\n",
       "      <td>27</td>\n",
       "      <td>высшее</td>\n",
       "      <td>0</td>\n",
       "      <td>гражданский брак</td>\n",
       "      <td>1</td>\n",
       "      <td>M</td>\n",
       "      <td>компаньон</td>\n",
       "      <td>0</td>\n",
       "      <td>255763.565419</td>\n",
       "      <td>покупка жилья</td>\n",
       "    </tr>\n",
       "    <tr>\n",
       "      <th>6</th>\n",
       "      <td>0</td>\n",
       "      <td>-2879.202052</td>\n",
       "      <td>43</td>\n",
       "      <td>высшее</td>\n",
       "      <td>0</td>\n",
       "      <td>женат / замужем</td>\n",
       "      <td>0</td>\n",
       "      <td>F</td>\n",
       "      <td>компаньон</td>\n",
       "      <td>0</td>\n",
       "      <td>240525.971920</td>\n",
       "      <td>операции с жильем</td>\n",
       "    </tr>\n",
       "    <tr>\n",
       "      <th>7</th>\n",
       "      <td>0</td>\n",
       "      <td>-152.779569</td>\n",
       "      <td>50</td>\n",
       "      <td>СРЕДНЕЕ</td>\n",
       "      <td>1</td>\n",
       "      <td>женат / замужем</td>\n",
       "      <td>0</td>\n",
       "      <td>M</td>\n",
       "      <td>сотрудник</td>\n",
       "      <td>0</td>\n",
       "      <td>135823.934197</td>\n",
       "      <td>образование</td>\n",
       "    </tr>\n",
       "    <tr>\n",
       "      <th>8</th>\n",
       "      <td>2</td>\n",
       "      <td>-6929.865299</td>\n",
       "      <td>35</td>\n",
       "      <td>ВЫСШЕЕ</td>\n",
       "      <td>0</td>\n",
       "      <td>гражданский брак</td>\n",
       "      <td>1</td>\n",
       "      <td>F</td>\n",
       "      <td>сотрудник</td>\n",
       "      <td>0</td>\n",
       "      <td>95856.832424</td>\n",
       "      <td>на проведение свадьбы</td>\n",
       "    </tr>\n",
       "    <tr>\n",
       "      <th>9</th>\n",
       "      <td>0</td>\n",
       "      <td>-2188.756445</td>\n",
       "      <td>41</td>\n",
       "      <td>среднее</td>\n",
       "      <td>1</td>\n",
       "      <td>женат / замужем</td>\n",
       "      <td>0</td>\n",
       "      <td>M</td>\n",
       "      <td>сотрудник</td>\n",
       "      <td>0</td>\n",
       "      <td>144425.938277</td>\n",
       "      <td>покупка жилья для семьи</td>\n",
       "    </tr>\n",
       "    <tr>\n",
       "      <th>10</th>\n",
       "      <td>2</td>\n",
       "      <td>-4171.483647</td>\n",
       "      <td>36</td>\n",
       "      <td>высшее</td>\n",
       "      <td>0</td>\n",
       "      <td>женат / замужем</td>\n",
       "      <td>0</td>\n",
       "      <td>M</td>\n",
       "      <td>компаньон</td>\n",
       "      <td>0</td>\n",
       "      <td>113943.491460</td>\n",
       "      <td>покупка недвижимости</td>\n",
       "    </tr>\n",
       "    <tr>\n",
       "      <th>11</th>\n",
       "      <td>0</td>\n",
       "      <td>-792.701887</td>\n",
       "      <td>40</td>\n",
       "      <td>среднее</td>\n",
       "      <td>1</td>\n",
       "      <td>женат / замужем</td>\n",
       "      <td>0</td>\n",
       "      <td>F</td>\n",
       "      <td>сотрудник</td>\n",
       "      <td>0</td>\n",
       "      <td>77069.234271</td>\n",
       "      <td>покупка коммерческой недвижимости</td>\n",
       "    </tr>\n",
       "    <tr>\n",
       "      <th>12</th>\n",
       "      <td>0</td>\n",
       "      <td>NaN</td>\n",
       "      <td>65</td>\n",
       "      <td>среднее</td>\n",
       "      <td>1</td>\n",
       "      <td>гражданский брак</td>\n",
       "      <td>1</td>\n",
       "      <td>M</td>\n",
       "      <td>пенсионер</td>\n",
       "      <td>0</td>\n",
       "      <td>NaN</td>\n",
       "      <td>сыграть свадьбу</td>\n",
       "    </tr>\n",
       "    <tr>\n",
       "      <th>13</th>\n",
       "      <td>0</td>\n",
       "      <td>-1846.641941</td>\n",
       "      <td>54</td>\n",
       "      <td>неоконченное высшее</td>\n",
       "      <td>2</td>\n",
       "      <td>женат / замужем</td>\n",
       "      <td>0</td>\n",
       "      <td>F</td>\n",
       "      <td>сотрудник</td>\n",
       "      <td>0</td>\n",
       "      <td>130458.228857</td>\n",
       "      <td>приобретение автомобиля</td>\n",
       "    </tr>\n",
       "    <tr>\n",
       "      <th>14</th>\n",
       "      <td>0</td>\n",
       "      <td>-1844.956182</td>\n",
       "      <td>56</td>\n",
       "      <td>высшее</td>\n",
       "      <td>0</td>\n",
       "      <td>гражданский брак</td>\n",
       "      <td>1</td>\n",
       "      <td>F</td>\n",
       "      <td>компаньон</td>\n",
       "      <td>1</td>\n",
       "      <td>165127.911772</td>\n",
       "      <td>покупка жилой недвижимости</td>\n",
       "    </tr>\n",
       "    <tr>\n",
       "      <th>15</th>\n",
       "      <td>1</td>\n",
       "      <td>-972.364419</td>\n",
       "      <td>26</td>\n",
       "      <td>среднее</td>\n",
       "      <td>1</td>\n",
       "      <td>женат / замужем</td>\n",
       "      <td>0</td>\n",
       "      <td>F</td>\n",
       "      <td>сотрудник</td>\n",
       "      <td>0</td>\n",
       "      <td>116820.904450</td>\n",
       "      <td>строительство собственной недвижимости</td>\n",
       "    </tr>\n",
       "    <tr>\n",
       "      <th>16</th>\n",
       "      <td>0</td>\n",
       "      <td>-1719.934226</td>\n",
       "      <td>35</td>\n",
       "      <td>среднее</td>\n",
       "      <td>1</td>\n",
       "      <td>женат / замужем</td>\n",
       "      <td>0</td>\n",
       "      <td>F</td>\n",
       "      <td>сотрудник</td>\n",
       "      <td>0</td>\n",
       "      <td>289202.704229</td>\n",
       "      <td>недвижимость</td>\n",
       "    </tr>\n",
       "    <tr>\n",
       "      <th>17</th>\n",
       "      <td>0</td>\n",
       "      <td>-2369.999720</td>\n",
       "      <td>33</td>\n",
       "      <td>высшее</td>\n",
       "      <td>0</td>\n",
       "      <td>гражданский брак</td>\n",
       "      <td>1</td>\n",
       "      <td>M</td>\n",
       "      <td>сотрудник</td>\n",
       "      <td>0</td>\n",
       "      <td>90410.586745</td>\n",
       "      <td>строительство недвижимости</td>\n",
       "    </tr>\n",
       "    <tr>\n",
       "      <th>18</th>\n",
       "      <td>0</td>\n",
       "      <td>400281.136913</td>\n",
       "      <td>53</td>\n",
       "      <td>среднее</td>\n",
       "      <td>1</td>\n",
       "      <td>вдовец / вдова</td>\n",
       "      <td>2</td>\n",
       "      <td>F</td>\n",
       "      <td>пенсионер</td>\n",
       "      <td>0</td>\n",
       "      <td>56823.777243</td>\n",
       "      <td>на покупку подержанного автомобиля</td>\n",
       "    </tr>\n",
       "    <tr>\n",
       "      <th>19</th>\n",
       "      <td>0</td>\n",
       "      <td>-10038.818549</td>\n",
       "      <td>48</td>\n",
       "      <td>СРЕДНЕЕ</td>\n",
       "      <td>1</td>\n",
       "      <td>в разводе</td>\n",
       "      <td>3</td>\n",
       "      <td>F</td>\n",
       "      <td>сотрудник</td>\n",
       "      <td>0</td>\n",
       "      <td>242831.107982</td>\n",
       "      <td>на покупку своего автомобиля</td>\n",
       "    </tr>\n",
       "  </tbody>\n",
       "</table>\n",
       "</div>"
      ],
      "text/plain": [
       "    children  days_employed  dob_years            education  education_id  \\\n",
       "0          1   -8437.673028         42               высшее             0   \n",
       "1          1   -4024.803754         36              среднее             1   \n",
       "2          0   -5623.422610         33              Среднее             1   \n",
       "3          3   -4124.747207         32              среднее             1   \n",
       "4          0  340266.072047         53              среднее             1   \n",
       "5          0    -926.185831         27               высшее             0   \n",
       "6          0   -2879.202052         43               высшее             0   \n",
       "7          0    -152.779569         50              СРЕДНЕЕ             1   \n",
       "8          2   -6929.865299         35               ВЫСШЕЕ             0   \n",
       "9          0   -2188.756445         41              среднее             1   \n",
       "10         2   -4171.483647         36               высшее             0   \n",
       "11         0    -792.701887         40              среднее             1   \n",
       "12         0            NaN         65              среднее             1   \n",
       "13         0   -1846.641941         54  неоконченное высшее             2   \n",
       "14         0   -1844.956182         56               высшее             0   \n",
       "15         1    -972.364419         26              среднее             1   \n",
       "16         0   -1719.934226         35              среднее             1   \n",
       "17         0   -2369.999720         33               высшее             0   \n",
       "18         0  400281.136913         53              среднее             1   \n",
       "19         0  -10038.818549         48              СРЕДНЕЕ             1   \n",
       "\n",
       "       family_status  family_status_id gender income_type  debt  \\\n",
       "0    женат / замужем                 0      F   сотрудник     0   \n",
       "1    женат / замужем                 0      F   сотрудник     0   \n",
       "2    женат / замужем                 0      M   сотрудник     0   \n",
       "3    женат / замужем                 0      M   сотрудник     0   \n",
       "4   гражданский брак                 1      F   пенсионер     0   \n",
       "5   гражданский брак                 1      M   компаньон     0   \n",
       "6    женат / замужем                 0      F   компаньон     0   \n",
       "7    женат / замужем                 0      M   сотрудник     0   \n",
       "8   гражданский брак                 1      F   сотрудник     0   \n",
       "9    женат / замужем                 0      M   сотрудник     0   \n",
       "10   женат / замужем                 0      M   компаньон     0   \n",
       "11   женат / замужем                 0      F   сотрудник     0   \n",
       "12  гражданский брак                 1      M   пенсионер     0   \n",
       "13   женат / замужем                 0      F   сотрудник     0   \n",
       "14  гражданский брак                 1      F   компаньон     1   \n",
       "15   женат / замужем                 0      F   сотрудник     0   \n",
       "16   женат / замужем                 0      F   сотрудник     0   \n",
       "17  гражданский брак                 1      M   сотрудник     0   \n",
       "18    вдовец / вдова                 2      F   пенсионер     0   \n",
       "19         в разводе                 3      F   сотрудник     0   \n",
       "\n",
       "     total_income                                 purpose  \n",
       "0   253875.639453                           покупка жилья  \n",
       "1   112080.014102                 приобретение автомобиля  \n",
       "2   145885.952297                           покупка жилья  \n",
       "3   267628.550329              дополнительное образование  \n",
       "4   158616.077870                         сыграть свадьбу  \n",
       "5   255763.565419                           покупка жилья  \n",
       "6   240525.971920                       операции с жильем  \n",
       "7   135823.934197                             образование  \n",
       "8    95856.832424                   на проведение свадьбы  \n",
       "9   144425.938277                 покупка жилья для семьи  \n",
       "10  113943.491460                    покупка недвижимости  \n",
       "11   77069.234271       покупка коммерческой недвижимости  \n",
       "12            NaN                         сыграть свадьбу  \n",
       "13  130458.228857                 приобретение автомобиля  \n",
       "14  165127.911772              покупка жилой недвижимости  \n",
       "15  116820.904450  строительство собственной недвижимости  \n",
       "16  289202.704229                            недвижимость  \n",
       "17   90410.586745              строительство недвижимости  \n",
       "18   56823.777243      на покупку подержанного автомобиля  \n",
       "19  242831.107982            на покупку своего автомобиля  "
      ]
     },
     "execution_count": 2,
     "metadata": {},
     "output_type": "execute_result"
    }
   ],
   "source": [
    "data.head(20)"
   ]
  },
  {
   "cell_type": "markdown",
   "id": "48b1a585",
   "metadata": {
    "deletable": false,
    "editable": false,
    "id": "1c12e233"
   },
   "source": [
    "**Задание 3. Выведите основную информацию о датафрейме с помощью метода `info()`.**"
   ]
  },
  {
   "cell_type": "code",
   "execution_count": 3,
   "id": "4f423be8",
   "metadata": {
    "deletable": false,
    "id": "2b757bca",
    "outputId": "15376089-8dad-46c9-b520-c05248d43158"
   },
   "outputs": [
    {
     "name": "stdout",
     "output_type": "stream",
     "text": [
      "<class 'pandas.core.frame.DataFrame'>\n",
      "RangeIndex: 21525 entries, 0 to 21524\n",
      "Data columns (total 12 columns):\n",
      " #   Column            Non-Null Count  Dtype  \n",
      "---  ------            --------------  -----  \n",
      " 0   children          21525 non-null  int64  \n",
      " 1   days_employed     19351 non-null  float64\n",
      " 2   dob_years         21525 non-null  int64  \n",
      " 3   education         21525 non-null  object \n",
      " 4   education_id      21525 non-null  int64  \n",
      " 5   family_status     21525 non-null  object \n",
      " 6   family_status_id  21525 non-null  int64  \n",
      " 7   gender            21525 non-null  object \n",
      " 8   income_type       21525 non-null  object \n",
      " 9   debt              21525 non-null  int64  \n",
      " 10  total_income      19351 non-null  float64\n",
      " 11  purpose           21525 non-null  object \n",
      "dtypes: float64(2), int64(5), object(5)\n",
      "memory usage: 2.0+ MB\n"
     ]
    }
   ],
   "source": [
    "data.info()"
   ]
  },
  {
   "cell_type": "markdown",
   "id": "e9eb803f",
   "metadata": {
    "deletable": false,
    "editable": false,
    "id": "333ec665"
   },
   "source": [
    "## Предобработка данных"
   ]
  },
  {
   "cell_type": "markdown",
   "id": "081b1b71",
   "metadata": {
    "deletable": false,
    "editable": false,
    "id": "02d92d53"
   },
   "source": [
    "### Удаление пропусков"
   ]
  },
  {
   "cell_type": "markdown",
   "id": "4f907306",
   "metadata": {
    "deletable": false,
    "editable": false,
    "id": "cd84967c"
   },
   "source": [
    "**Задание 4. Выведите количество пропущенных значений для каждого столбца. Используйте комбинацию двух методов.**"
   ]
  },
  {
   "cell_type": "code",
   "execution_count": 4,
   "id": "5dc8d590",
   "metadata": {
    "deletable": false,
    "id": "7f9b2309",
    "outputId": "81f4d817-781c-465c-ed15-91ce4446810d"
   },
   "outputs": [
    {
     "data": {
      "text/plain": [
       "children               0\n",
       "days_employed       2174\n",
       "dob_years              0\n",
       "education              0\n",
       "education_id           0\n",
       "family_status          0\n",
       "family_status_id       0\n",
       "gender                 0\n",
       "income_type            0\n",
       "debt                   0\n",
       "total_income        2174\n",
       "purpose                0\n",
       "dtype: int64"
      ]
     },
     "execution_count": 4,
     "metadata": {},
     "output_type": "execute_result"
    }
   ],
   "source": [
    "data.isna().sum()"
   ]
  },
  {
   "cell_type": "markdown",
   "id": "b59f7cd6",
   "metadata": {
    "deletable": false,
    "editable": false,
    "id": "db86e27b"
   },
   "source": [
    "**Задание 5. В двух столбцах есть пропущенные значения. Один из них — `days_employed`. Пропуски в этом столбце вы обработаете на следующем этапе. Другой столбец с пропущенными значениями — `total_income` — хранит данные о доходах. На сумму дохода сильнее всего влияет тип занятости, поэтому заполнить пропуски в этом столбце нужно медианным значением по каждому типу из столбца `income_type`. Например, у человека с типом занятости `сотрудник` пропуск в столбце `total_income` должен быть заполнен медианным доходом среди всех записей с тем же типом.**"
   ]
  },
  {
   "cell_type": "code",
   "execution_count": 5,
   "id": "c35b2050",
   "metadata": {
    "deletable": false,
    "id": "42006a93"
   },
   "outputs": [],
   "source": [
    "for t in data['income_type'].unique():\n",
    "    data.loc[(data['income_type'] == t) & (data['total_income'].isna()), 'total_income'] = \\\n",
    "    data.loc[(data['income_type'] == t), 'total_income'].median()"
   ]
  },
  {
   "cell_type": "markdown",
   "id": "72da49f8",
   "metadata": {
    "deletable": false,
    "editable": false,
    "id": "89da5ece"
   },
   "source": [
    "### Обработка аномальных значений"
   ]
  },
  {
   "cell_type": "markdown",
   "id": "71726ddd",
   "metadata": {
    "deletable": false,
    "editable": false,
    "id": "57964554"
   },
   "source": [
    "**Задание 6. В данных могут встречаться артефакты (аномалии) — значения, которые не отражают действительность и появились по какой-то ошибке. таким артефактом будет отрицательное количество дней трудового стажа в столбце `days_employed`. Для реальных данных это нормально. Обработайте значения в этом столбце: замените все отрицательные значения положительными с помощью метода `abs()`.**"
   ]
  },
  {
   "cell_type": "code",
   "execution_count": 6,
   "id": "9701ec86",
   "metadata": {
    "deletable": false,
    "id": "f6f055bf"
   },
   "outputs": [],
   "source": [
    "data['days_employed'] = data['days_employed'].abs()"
   ]
  },
  {
   "cell_type": "markdown",
   "id": "c6574b64",
   "metadata": {
    "deletable": false,
    "editable": false,
    "id": "6107dd2f"
   },
   "source": [
    "**Задание 7. Для каждого типа занятости выведите медианное значение трудового стажа `days_employed` в днях.**"
   ]
  },
  {
   "cell_type": "code",
   "execution_count": 7,
   "id": "0ead3029",
   "metadata": {
    "deletable": false,
    "id": "85a5faf6",
    "outputId": "801ef80e-522b-4668-f34e-565af7432bcf"
   },
   "outputs": [
    {
     "data": {
      "text/plain": [
       "income_type\n",
       "безработный        366413.652744\n",
       "в декрете            3296.759962\n",
       "госслужащий          2689.368353\n",
       "компаньон            1547.382223\n",
       "пенсионер          365213.306266\n",
       "предприниматель       520.848083\n",
       "сотрудник            1574.202821\n",
       "студент               578.751554\n",
       "Name: days_employed, dtype: float64"
      ]
     },
     "execution_count": 7,
     "metadata": {},
     "output_type": "execute_result"
    }
   ],
   "source": [
    "data.groupby('income_type')['days_employed'].agg('median')"
   ]
  },
  {
   "cell_type": "markdown",
   "id": "afd1b829",
   "metadata": {
    "deletable": false,
    "editable": false,
    "id": "38d1a030"
   },
   "source": [
    "У двух типов (безработные и пенсионеры) получатся аномально большие значения. Исправить такие значения сложно, поэтому оставьте их как есть. Тем более этот столбец не понадобится вам для исследования."
   ]
  },
  {
   "cell_type": "markdown",
   "id": "49a89278",
   "metadata": {
    "deletable": false,
    "editable": false,
    "id": "d8a9f147"
   },
   "source": [
    "**Задание 8. Выведите перечень уникальных значений столбца `children`.**"
   ]
  },
  {
   "cell_type": "code",
   "execution_count": 8,
   "id": "32eae6d7",
   "metadata": {
    "deletable": false,
    "id": "ef5056eb",
    "outputId": "6975b15c-7f95-4697-d16d-a0c79b657b03"
   },
   "outputs": [
    {
     "data": {
      "text/plain": [
       "array([ 1,  0,  3,  2, -1,  4, 20,  5])"
      ]
     },
     "execution_count": 8,
     "metadata": {},
     "output_type": "execute_result"
    }
   ],
   "source": [
    "data['children'].unique()"
   ]
  },
  {
   "cell_type": "markdown",
   "id": "ea7befb1",
   "metadata": {
    "deletable": false,
    "editable": false,
    "id": "40b9ebf2"
   },
   "source": [
    "**Задание 9. В столбце `children` есть два аномальных значения. Удалите строки, в которых встречаются такие аномальные значения из датафрейма `data`.**"
   ]
  },
  {
   "cell_type": "code",
   "execution_count": 9,
   "id": "26df9b15",
   "metadata": {
    "deletable": false,
    "id": "3ff9801d"
   },
   "outputs": [],
   "source": [
    "data = data[(data['children'] != -1) & (data['children'] != 20)]"
   ]
  },
  {
   "cell_type": "markdown",
   "id": "4a1194ce",
   "metadata": {
    "deletable": false,
    "editable": false,
    "id": "bbc4d0ce"
   },
   "source": [
    "**Задание 10. Ещё раз выведите перечень уникальных значений столбца `children`, чтобы убедиться, что артефакты удалены.**"
   ]
  },
  {
   "cell_type": "code",
   "execution_count": 10,
   "id": "cfd053fe",
   "metadata": {
    "deletable": false,
    "id": "ad4fa8b7",
    "outputId": "b2097101-d49d-44d9-901b-32a65c9463d1"
   },
   "outputs": [
    {
     "data": {
      "text/plain": [
       "array([1, 0, 3, 2, 4, 5])"
      ]
     },
     "execution_count": 10,
     "metadata": {},
     "output_type": "execute_result"
    }
   ],
   "source": [
    "data['children'].unique()"
   ]
  },
  {
   "cell_type": "markdown",
   "id": "e56f224e",
   "metadata": {
    "deletable": false,
    "editable": false,
    "id": "75440b63"
   },
   "source": [
    "### Удаление пропусков (продолжение)"
   ]
  },
  {
   "cell_type": "markdown",
   "id": "faff7c90",
   "metadata": {
    "deletable": false,
    "editable": false,
    "id": "f4ea573f"
   },
   "source": [
    "**Задание 11. Заполните пропуски в столбце `days_employed` медианными значениями по каждого типа занятости `income_type`.**"
   ]
  },
  {
   "cell_type": "code",
   "execution_count": 11,
   "id": "af72b861",
   "metadata": {
    "deletable": false,
    "id": "af6b1a7e"
   },
   "outputs": [],
   "source": [
    "for t in data['income_type'].unique():\n",
    "    data.loc[(data['income_type'] == t) & (data['days_employed'].isna()), 'days_employed'] = \\\n",
    "    data.loc[(data['income_type'] == t), 'days_employed'].median()"
   ]
  },
  {
   "cell_type": "markdown",
   "id": "598ea06b",
   "metadata": {
    "deletable": false,
    "editable": false,
    "id": "2753f40d"
   },
   "source": [
    "**Задание 12. Убедитесь, что все пропуски заполнены. Проверьте себя и ещё раз выведите количество пропущенных значений для каждого столбца с помощью двух методов.**"
   ]
  },
  {
   "cell_type": "code",
   "execution_count": 12,
   "id": "7ae285e6",
   "metadata": {
    "deletable": false,
    "id": "55f78bc2",
    "outputId": "8da1e4e1-358e-4e87-98c9-f261bce0a7b2"
   },
   "outputs": [
    {
     "data": {
      "text/plain": [
       "children            0\n",
       "days_employed       0\n",
       "dob_years           0\n",
       "education           0\n",
       "education_id        0\n",
       "family_status       0\n",
       "family_status_id    0\n",
       "gender              0\n",
       "income_type         0\n",
       "debt                0\n",
       "total_income        0\n",
       "purpose             0\n",
       "dtype: int64"
      ]
     },
     "execution_count": 12,
     "metadata": {},
     "output_type": "execute_result"
    }
   ],
   "source": [
    "data.isna().sum()"
   ]
  },
  {
   "cell_type": "markdown",
   "id": "5e0f963b",
   "metadata": {
    "deletable": false,
    "editable": false,
    "id": "ddc81e43"
   },
   "source": [
    "### Изменение типов данных"
   ]
  },
  {
   "cell_type": "markdown",
   "id": "e8c96cb8",
   "metadata": {
    "deletable": false,
    "editable": false,
    "id": "42d19d24"
   },
   "source": [
    "**Задание 13. Замените вещественный тип данных в столбце `total_income` на целочисленный с помощью метода `astype()`.**"
   ]
  },
  {
   "cell_type": "code",
   "execution_count": 13,
   "id": "09eb96d5",
   "metadata": {
    "deletable": false,
    "id": "920b65ad"
   },
   "outputs": [],
   "source": [
    "data['total_income'] = data['total_income'].astype(int)"
   ]
  },
  {
   "cell_type": "markdown",
   "id": "5168be85",
   "metadata": {
    "deletable": false,
    "editable": false,
    "id": "80c420ba"
   },
   "source": [
    "### Обработка дубликатов"
   ]
  },
  {
   "cell_type": "markdown",
   "id": "13a8c411",
   "metadata": {
    "deletable": false,
    "editable": false
   },
   "source": [
    "**Задание 14. Обработайте неявные дубликаты в столбце `education`. В этом столбце есть одни и те же значения, но записанные по-разному: с использованием заглавных и строчных букв. Приведите их к нижнему регистру. Проверьте остальные столбцы.**"
   ]
  },
  {
   "cell_type": "code",
   "execution_count": 14,
   "id": "453e04df",
   "metadata": {
    "deletable": false
   },
   "outputs": [],
   "source": [
    "data['education'] = data['education'].str.lower()"
   ]
  },
  {
   "cell_type": "markdown",
   "id": "8f017654",
   "metadata": {
    "deletable": false,
    "editable": false,
    "id": "dc587695"
   },
   "source": [
    "**Задание 15. Выведите на экран количество строк-дубликатов в данных. Если такие строки присутствуют, удалите их.**"
   ]
  },
  {
   "cell_type": "code",
   "execution_count": 15,
   "id": "05fbe632",
   "metadata": {
    "deletable": false,
    "id": "3ee445e4",
    "outputId": "9684deba-1934-42d1-99e1-cda61740f822"
   },
   "outputs": [
    {
     "data": {
      "text/plain": [
       "71"
      ]
     },
     "execution_count": 15,
     "metadata": {},
     "output_type": "execute_result"
    }
   ],
   "source": [
    "data.duplicated().sum()"
   ]
  },
  {
   "cell_type": "code",
   "execution_count": 16,
   "id": "c3278420",
   "metadata": {
    "deletable": false,
    "id": "8575fe05"
   },
   "outputs": [],
   "source": [
    "data = data.drop_duplicates()"
   ]
  },
  {
   "cell_type": "markdown",
   "id": "04495a24",
   "metadata": {
    "deletable": false,
    "editable": false,
    "id": "9904cf55"
   },
   "source": [
    "### Категоризация данных"
   ]
  },
  {
   "cell_type": "markdown",
   "id": "5b89291a",
   "metadata": {
    "deletable": false,
    "editable": false,
    "id": "72fcc8a2"
   },
   "source": [
    "**Задание 16. На основании диапазонов, указанных ниже, создайте в датафрейме `data` столбец `total_income_category` с категориями:**\n",
    "\n",
    "- 0–30000 — `'E'`;\n",
    "- 30001–50000 — `'D'`;\n",
    "- 50001–200000 — `'C'`;\n",
    "- 200001–1000000 — `'B'`;\n",
    "- 1000001 и выше — `'A'`.\n",
    "\n",
    "\n",
    "**Например, кредитополучателю с доходом 25000 нужно назначить категорию `'E'`, а клиенту, получающему 235000, — `'B'`. Используйте собственную функцию с именем `categorize_income()` и метод `apply()`.**"
   ]
  },
  {
   "cell_type": "code",
   "execution_count": 17,
   "id": "ac089b50",
   "metadata": {
    "deletable": false,
    "id": "e1771346"
   },
   "outputs": [],
   "source": [
    "def categorize_income(income):\n",
    "    try:\n",
    "        if 0 <= income <= 30000:\n",
    "            return 'E'\n",
    "        elif 30001 <= income <= 50000:\n",
    "            return 'D'\n",
    "        elif 50001 <= income <= 200000:\n",
    "            return 'C'\n",
    "        elif 200001 <= income <= 1000000:\n",
    "            return 'B'\n",
    "        elif income >= 1000001:\n",
    "            return 'A'\n",
    "    except:\n",
    "        pass"
   ]
  },
  {
   "cell_type": "code",
   "execution_count": 18,
   "id": "b8195e60",
   "metadata": {
    "deletable": false,
    "id": "d5f3586d"
   },
   "outputs": [],
   "source": [
    "data['total_income_category'] = data['total_income'].apply(categorize_income)"
   ]
  },
  {
   "cell_type": "markdown",
   "id": "ba75e202",
   "metadata": {
    "deletable": false,
    "editable": false,
    "id": "dde49b5c"
   },
   "source": [
    "**Задание 17. Выведите на экран перечень уникальных целей взятия кредита из столбца `purpose`.**"
   ]
  },
  {
   "cell_type": "code",
   "execution_count": 19,
   "id": "6cfb5958",
   "metadata": {
    "deletable": false,
    "id": "f67ce9b3",
    "outputId": "673c12d9-7d7e-4ae0-9812-c622c89dd244"
   },
   "outputs": [
    {
     "data": {
      "text/plain": [
       "array(['покупка жилья', 'приобретение автомобиля',\n",
       "       'дополнительное образование', 'сыграть свадьбу',\n",
       "       'операции с жильем', 'образование', 'на проведение свадьбы',\n",
       "       'покупка жилья для семьи', 'покупка недвижимости',\n",
       "       'покупка коммерческой недвижимости', 'покупка жилой недвижимости',\n",
       "       'строительство собственной недвижимости', 'недвижимость',\n",
       "       'строительство недвижимости', 'на покупку подержанного автомобиля',\n",
       "       'на покупку своего автомобиля',\n",
       "       'операции с коммерческой недвижимостью',\n",
       "       'строительство жилой недвижимости', 'жилье',\n",
       "       'операции со своей недвижимостью', 'автомобили',\n",
       "       'заняться образованием', 'сделка с подержанным автомобилем',\n",
       "       'получение образования', 'автомобиль', 'свадьба',\n",
       "       'получение дополнительного образования', 'покупка своего жилья',\n",
       "       'операции с недвижимостью', 'получение высшего образования',\n",
       "       'свой автомобиль', 'сделка с автомобилем',\n",
       "       'профильное образование', 'высшее образование',\n",
       "       'покупка жилья для сдачи', 'на покупку автомобиля', 'ремонт жилью',\n",
       "       'заняться высшим образованием'], dtype=object)"
      ]
     },
     "execution_count": 19,
     "metadata": {},
     "output_type": "execute_result"
    }
   ],
   "source": [
    "data['purpose'].unique()"
   ]
  },
  {
   "cell_type": "markdown",
   "id": "9a9f57b2",
   "metadata": {
    "deletable": false,
    "editable": false,
    "id": "85d0aef0"
   },
   "source": [
    "**Задание 18. Создайте функцию, которая на основании данных из столбца `purpose` сформирует новый столбец `purpose_category`, в который войдут следующие категории:**\n",
    "\n",
    "- `'операции с автомобилем'`,\n",
    "- `'операции с недвижимостью'`,\n",
    "- `'проведение свадьбы'`,\n",
    "- `'получение образования'`.\n",
    "\n",
    "**Например, если в столбце `purpose` находится подстрока `'на покупку автомобиля'`, то в столбце `purpose_category` должна появиться строка `'операции с автомобилем'`.**\n",
    "\n",
    "**Используйте собственную функцию с именем `categorize_purpose()` и метод `apply()`. Изучите данные в столбце `purpose` и определите, какие подстроки помогут вам правильно определить категорию.**"
   ]
  },
  {
   "cell_type": "code",
   "execution_count": 20,
   "id": "728c1f07",
   "metadata": {
    "deletable": false,
    "id": "e149fab4"
   },
   "outputs": [],
   "source": [
    "def categorize_purpose(row):\n",
    "    try:\n",
    "        if 'автом' in row:\n",
    "            return 'операции с автомобилем'\n",
    "        elif 'жил' in row or 'недвиж' in row:\n",
    "            return 'операции с недвижимостью'\n",
    "        elif 'свад' in row:\n",
    "            return 'проведение свадьбы'\n",
    "        elif 'образов' in row:\n",
    "            return 'получение образования'\n",
    "    except:\n",
    "        return 'нет категории'"
   ]
  },
  {
   "cell_type": "code",
   "execution_count": 21,
   "id": "33953403",
   "metadata": {
    "deletable": false,
    "id": "bf36e69b"
   },
   "outputs": [],
   "source": [
    "data['purpose_category'] = data['purpose'].apply(categorize_purpose)"
   ]
  },
  {
   "cell_type": "markdown",
   "id": "81bcbe86",
   "metadata": {
    "deletable": false,
    "editable": false,
    "id": "09b242bf"
   },
   "source": [
    "### Шаг 3. Исследуйте данные и ответьте на вопросы"
   ]
  },
  {
   "cell_type": "markdown",
   "id": "993200e7",
   "metadata": {
    "deletable": false,
    "editable": false,
    "id": "c5d66278"
   },
   "source": [
    "#### 3.1 Есть ли зависимость между количеством детей и возвратом кредита в срок?"
   ]
  },
  {
   "cell_type": "code",
   "execution_count": 22,
   "id": "7d3e3c84",
   "metadata": {
    "deletable": false,
    "id": "2cacfc4a"
   },
   "outputs": [
    {
     "name": "stdout",
     "output_type": "stream",
     "text": [
      "children      0     1    2    3   4  5\n",
      "debt                                  \n",
      "0         14484  3478  833  118  17  2\n",
      "1          1340   403   93   15   4  0\n"
     ]
    }
   ],
   "source": [
    "children_debt=data.pivot_table(index='debt',\n",
    "                              columns='children',\n",
    "                              values='family_status_id',\n",
    "                              aggfunc='sum',\n",
    "                              fill_value=0)\n",
    "print(children_debt)\n",
    "\n"
   ]
  },
  {
   "cell_type": "markdown",
   "id": "41a214d2",
   "metadata": {
    "deletable": false,
    "id": "3a6b99ec"
   },
   "source": [
    "**Вывод:** Да, между количеством детей и потенциальным возвратом в срок есть связь. Если семья бездетная, то вероятность того, что они исправно будут платить кредит выше. Если же в семье 1,2,4 ребенка, то вероятность появления долга выше. Стоит отметить, что при 3 детях вероятность меньше, чем при 2 или 4. Скорее всего, это связано с гос. субсидиями многодетным семьям."
   ]
  },
  {
   "cell_type": "markdown",
   "id": "efd8d18c",
   "metadata": {},
   "source": [
    "<div class=\"alert alert-warning\">\n",
    "    <h2> Комментарий ревьюера V1<a class=\"tocSkip\"> </h2>\n",
    "    \n",
    "<b>Некоторые замечания и рекомендации💡:</b> Вывод ты сформулировал абсолютно точно и правильно. Однако есть одно замечание - ты сразу построил Series объект, в котором есть только информация о количестве детей и вероятностью просрочки. При этом ты не изучил распределение клиентов по группам и не отразил это в выводе, а это основной шаг в начале исследования, от которого по большому счету все зависит. Проверь как распределены данные и дополни сводную таблица или просто напиши об этом в выводе.\n",
    "        \n"
   ]
  },
  {
   "cell_type": "markdown",
   "id": "3646e423",
   "metadata": {},
   "source": [
    "Не совсем понял, что от меня требуется. \n",
    "Нужно добавить дополнительный столбец в датафрейме, где будут показываться % соотношение кол-ва людей с n-ым количеством детей \n",
    "к общему количеству людей, который есть в таблице data?"
   ]
  },
  {
   "cell_type": "markdown",
   "id": "af7cf655",
   "metadata": {},
   "source": [
    "<div class=\"alert alert-warning\">\n",
    "    <h2> Комментарий ревьюера V2<a class=\"tocSkip\"> </h2>\n",
    "    \n",
    "<b>Некоторые замечания и рекомендации💡:</b> Тебе нужно в сводной таблице выше добавить столбец с количеством клиентов в каждой группе и с количеством просрочек. Ты можешь сделать это с помощью `groupby()` или `pivot_table()`. Ссылка, в которой рассматривается построение сводных таблиц на примерах:\n",
    "        \n",
    "https://dfedorov.spb.ru/pandas/Сводная%20таблица%20в%20pandas.html\n",
    "        \n",
    "Оформляй свои комментарии в `markdown` ячейках."
   ]
  },
  {
   "cell_type": "markdown",
   "id": "83f948d1",
   "metadata": {},
   "source": [
    "Переписал код через pivot_table выведено кол-во клиентов с просрочками и без по группам с различным количеством детей."
   ]
  },
  {
   "cell_type": "markdown",
   "id": "e22dd73a",
   "metadata": {},
   "source": [
    "<div class=\"alert alert-success\">\n",
    "<h2> Комментарий ревьюера V3<a class=\"tocSkip\"> </h2>\n",
    "\n",
    "<b>Все отлично!👍:</b> Все правильно заметил, в сводной таблице можно было бы добавить вероятность просрочки по группам.\n",
    "</div>"
   ]
  },
  {
   "cell_type": "markdown",
   "id": "7105c53e",
   "metadata": {
    "deletable": false,
    "editable": false,
    "id": "97be82ca"
   },
   "source": [
    "#### 3.2 Есть ли зависимость между семейным положением и возвратом кредита в срок?"
   ]
  },
  {
   "cell_type": "code",
   "execution_count": 23,
   "id": "37fbe03e",
   "metadata": {
    "deletable": false,
    "id": "dc3f7ee8"
   },
   "outputs": [
    {
     "name": "stdout",
     "output_type": "stream",
     "text": [
      "family_status\n",
      "Не женат / не замужем    0.097639\n",
      "в разводе                0.070648\n",
      "вдовец / вдова           0.066246\n",
      "гражданский брак         0.093130\n",
      "женат / замужем          0.075606\n",
      "Name: debt, dtype: float64\n"
     ]
    }
   ],
   "source": [
    "division1=data.groupby('family_status')['debt'].mean()\n",
    "print(division1)\n",
    "\n",
    "\n",
    "\n",
    "# Ваш код будет здесь. Вы можете создавать новые ячейки."
   ]
  },
  {
   "cell_type": "markdown",
   "id": "0cdf7fd8",
   "metadata": {
    "deletable": false,
    "id": "1cef7837"
   },
   "source": [
    "**Вывод:** Да, человек, который является вдовцом/вдовой или находится в разводе является более надежным плательщиком, чем остальные люди, относящиеся к другим категориям семейного положения. В целом можно разделить людей по их семейному положению на 2 группы: 1) клиенты, побывавшие в официальном браке; 2) клиенты, которые не были в браке. Люди, которые не оформляли официальный брак, являются менее надежными заемщиками, чем другие люди."
   ]
  },
  {
   "cell_type": "markdown",
   "id": "d4353131",
   "metadata": {},
   "source": [
    "<div class=\"alert alert-warning\">\n",
    "    <h2> Комментарий ревьюера V1<a class=\"tocSkip\"> </h2>\n",
    "    \n",
    "<b>Некоторые замечания и рекомендации💡:</b> Комментарий о анализе данных перед формированием вывода относится к этому пункту тоже, также как и к последующим. В целом вывод ты сделал корректным, можно ли как-то по-другому его сформулировать, мне кажется, что здесь четко выявляются 2 группы клиентов, у которых отличается вероятность просрочки."
   ]
  },
  {
   "cell_type": "markdown",
   "id": "c13f5073",
   "metadata": {},
   "source": [
    "Скорректировал вывод"
   ]
  },
  {
   "cell_type": "markdown",
   "id": "af623373",
   "metadata": {},
   "source": [
    "<div class=\"alert alert-warning\">\n",
    "    <h2> Комментарий ревьюера V2<a class=\"tocSkip\"> </h2>\n",
    "    \n",
    "<b>Некоторые замечания и рекомендации💡:</b> Вывод по-прежнему корректный, однако 2 группы это: 1) клиенты, побывавшие в официальном браке; 2) клиенты, которые не были в браке."
   ]
  },
  {
   "cell_type": "markdown",
   "id": "5d607e6c",
   "metadata": {},
   "source": [
    "Скорректировал вывод"
   ]
  },
  {
   "cell_type": "markdown",
   "id": "ec4dbb69",
   "metadata": {},
   "source": [
    "<div class=\"alert alert-success\">\n",
    "<h2> Комментарий ревьюера V3<a class=\"tocSkip\"> </h2>\n",
    "\n",
    "<b>Все отлично!👍:</b> Абсолютно верный вывод, молодец!\n",
    "</div>"
   ]
  },
  {
   "cell_type": "markdown",
   "id": "4ef8aa76",
   "metadata": {
    "deletable": false,
    "editable": false,
    "id": "1e8b2fca"
   },
   "source": [
    "#### 3.3 Есть ли зависимость между уровнем дохода и возвратом кредита в срок?"
   ]
  },
  {
   "cell_type": "code",
   "execution_count": 24,
   "id": "b479fcd6",
   "metadata": {
    "deletable": false,
    "id": "cd7e3720",
    "scrolled": true
   },
   "outputs": [
    {
     "data": {
      "text/html": [
       "<div>\n",
       "<style scoped>\n",
       "    .dataframe tbody tr th:only-of-type {\n",
       "        vertical-align: middle;\n",
       "    }\n",
       "\n",
       "    .dataframe tbody tr th {\n",
       "        vertical-align: top;\n",
       "    }\n",
       "\n",
       "    .dataframe thead tr th {\n",
       "        text-align: left;\n",
       "    }\n",
       "\n",
       "    .dataframe thead tr:last-of-type th {\n",
       "        text-align: right;\n",
       "    }\n",
       "</style>\n",
       "<table border=\"1\" class=\"dataframe\">\n",
       "  <thead>\n",
       "    <tr>\n",
       "      <th></th>\n",
       "      <th></th>\n",
       "      <th>debt</th>\n",
       "    </tr>\n",
       "    <tr>\n",
       "      <th></th>\n",
       "      <th></th>\n",
       "      <th>count</th>\n",
       "    </tr>\n",
       "    <tr>\n",
       "      <th>total_income_status</th>\n",
       "      <th>debt</th>\n",
       "      <th></th>\n",
       "    </tr>\n",
       "  </thead>\n",
       "  <tbody>\n",
       "    <tr>\n",
       "      <th rowspan=\"2\" valign=\"top\">высокая</th>\n",
       "      <th>0</th>\n",
       "      <td>4683</td>\n",
       "    </tr>\n",
       "    <tr>\n",
       "      <th>1</th>\n",
       "      <td>356</td>\n",
       "    </tr>\n",
       "    <tr>\n",
       "      <th rowspan=\"2\" valign=\"top\">низкая</th>\n",
       "      <th>0</th>\n",
       "      <td>4090</td>\n",
       "    </tr>\n",
       "    <tr>\n",
       "      <th>1</th>\n",
       "      <td>354</td>\n",
       "    </tr>\n",
       "    <tr>\n",
       "      <th rowspan=\"2\" valign=\"top\">средняя</th>\n",
       "      <th>0</th>\n",
       "      <td>10826</td>\n",
       "    </tr>\n",
       "    <tr>\n",
       "      <th>1</th>\n",
       "      <td>1022</td>\n",
       "    </tr>\n",
       "  </tbody>\n",
       "</table>\n",
       "</div>"
      ],
      "text/plain": [
       "                           debt\n",
       "                          count\n",
       "total_income_status debt       \n",
       "высокая             0      4683\n",
       "                    1       356\n",
       "низкая              0      4090\n",
       "                    1       354\n",
       "средняя             0     10826\n",
       "                    1      1022"
      ]
     },
     "execution_count": 24,
     "metadata": {},
     "output_type": "execute_result"
    }
   ],
   "source": [
    "def classifier_total_income(row):\n",
    "    if row <= 100000:\n",
    "        return 'низкая'\n",
    "    elif 100000 < row <= 200000:\n",
    "        return \"средняя\"\n",
    "    else:\n",
    "        return \"высокая\"\n",
    "\n",
    "data['total_income_status'] = data['total_income'].apply(classifier_total_income)\n",
    "\n",
    "frame_of_income_status = data.groupby(['total_income_status','debt']).agg({'debt':[\"count\"]})\n",
    "\n",
    "frame_of_income_status\n",
    "\n",
    "\n",
    "\n"
   ]
  },
  {
   "cell_type": "markdown",
   "id": "3d88684c",
   "metadata": {
    "deletable": false,
    "id": "e8593def"
   },
   "source": [
    "**Вывод:** В целом разницы между людьми со средним и низким уровнем дохода для выплаты кредита нету. Люди с высоким уровнем дохода более надежны в этом плане."
   ]
  },
  {
   "cell_type": "markdown",
   "id": "992f3f6f",
   "metadata": {},
   "source": [
    "<div class=\"alert alert-success\">\n",
    "<h2> Комментарий ревьюера V1<a class=\"tocSkip\"> </h2>\n",
    "\n",
    "<b>Все отлично!👍:</b> Да, в том виде, в которым ты исследовал данную зависимость, все описано абсолютно верно. Жду комментария, почему ты решил сделать свой собственный категориальный признак уровня доходности, ведь в датафрейме уже такой присутствовал, он был создан в первой части данной работы. \n",
    "</div>"
   ]
  },
  {
   "cell_type": "markdown",
   "id": "bef30327",
   "metadata": {
    "deletable": false,
    "editable": false,
    "id": "99ecbd1f"
   },
   "source": [
    "#### 3.4 Как разные цели кредита влияют на его возврат в срок?"
   ]
  },
  {
   "cell_type": "code",
   "execution_count": 25,
   "id": "06ac6b99",
   "metadata": {
    "deletable": false,
    "id": "2b687290",
    "scrolled": true
   },
   "outputs": [
    {
     "name": "stdout",
     "output_type": "stream",
     "text": [
      "purpose_category\n",
      "операции с автомобилем      0.093480\n",
      "операции с недвижимостью    0.072551\n",
      "получение образования       0.092528\n",
      "проведение свадьбы          0.079118\n",
      "Name: debt, dtype: float64\n"
     ]
    }
   ],
   "source": [
    "division4=data.groupby('purpose_category')['debt'].mean()\n",
    "print(division4)# Ваш код будет здесь. Вы можете создавать новые ячейки."
   ]
  },
  {
   "cell_type": "markdown",
   "id": "fcd28da0",
   "metadata": {
    "deletable": false,
    "id": "b4bb2ce6"
   },
   "source": [
    "**Вывод:** Кредит на образование и приобритение авто является более рискованным, чем для проведения свадьбы и приобритения недвижимости. Причем недвижимость является самым надежным кредитом."
   ]
  },
  {
   "cell_type": "markdown",
   "id": "b769ee15",
   "metadata": {},
   "source": [
    "<div class=\"alert alert-success\">\n",
    "<h2> Комментарий ревьюера V1<a class=\"tocSkip\"> </h2>\n",
    "\n",
    "<b>Все отлично!👍:</b> Вывод прямо в точку 🎯. Как ты думаешь, почему у кредитов на недвижимость доля просрочки меньше?\n",
    "</div>"
   ]
  },
  {
   "cell_type": "markdown",
   "id": "cd508172",
   "metadata": {},
   "source": [
    "Потому что просрочка по кредитам на недвижимость потенциально может привести к тому, что человек потеряют как свою собственность - недвижимость, \n",
    "так и деньги, которые он выплачивал по кредиту."
   ]
  },
  {
   "cell_type": "markdown",
   "id": "18df8eee",
   "metadata": {
    "deletable": false,
    "editable": false,
    "id": "09c3ac4c"
   },
   "source": [
    "#### 3.5 Приведите возможные причины появления пропусков в исходных данных."
   ]
  },
  {
   "cell_type": "markdown",
   "id": "24108a69",
   "metadata": {
    "deletable": false,
    "id": "9da2ceda"
   },
   "source": [
    "*Ответ:* Возможно эти данные заполнялись людьми вручную и они не указывали какие-то данные(ненужные по их мнению). Халатность сотрудников"
   ]
  },
  {
   "cell_type": "markdown",
   "id": "2c2d8ea3",
   "metadata": {},
   "source": [
    "<div class=\"alert alert-warning\">\n",
    "    <h2> Комментарий ревьюера V1<a class=\"tocSkip\"> </h2>\n",
    "    \n",
    "<b>Некоторые замечания и рекомендации💡:</b> Какие еще причины появления пропусков в данных ты можешь назвать?"
   ]
  },
  {
   "cell_type": "markdown",
   "id": "bbe9632f",
   "metadata": {},
   "source": [
    "Дополнительные причины: Кибер-атака(фрод данных), изнально неправильное принятие и хранение данных от пользователей. "
   ]
  },
  {
   "cell_type": "markdown",
   "id": "372e02d6",
   "metadata": {},
   "source": [
    "<div class=\"alert alert-success\">\n",
    "<h2> Комментарий ревьюера V2<a class=\"tocSkip\"> </h2>\n",
    "\n",
    "<b>Все отлично!👍:</b> Все правильно, полностью согласен!\n",
    "</div>"
   ]
  },
  {
   "cell_type": "markdown",
   "id": "f2f1d0fd",
   "metadata": {
    "deletable": false,
    "editable": false,
    "id": "7b0487d6"
   },
   "source": [
    "#### 3.6 Объясните, почему заполнить пропуски медианным значением — лучшее решение для количественных переменных."
   ]
  },
  {
   "cell_type": "markdown",
   "id": "bbbb48cb",
   "metadata": {
    "deletable": false,
    "id": "7ecf2b8e"
   },
   "source": [
    "*Ответ:* Потому что заполняя пропуски средним значением, мы можем исказить реальную текущую картину. Ибо распределение какого-то n-го ресурса может быть между 2 владельцами n x 100 и 2 владельцами n x 1. Где средняя будет равняться 50.5 и это не отражает реальной ситуации."
   ]
  },
  {
   "cell_type": "markdown",
   "id": "0c25af25",
   "metadata": {},
   "source": [
    "<div class=\"alert alert-warning\">\n",
    "    <h2> Комментарий ревьюера V1<a class=\"tocSkip\"> </h2>\n",
    "    \n",
    "<b>Некоторые замечания и рекомендации💡:</b> Действительно, в некоторых случаях среднее значение может исказть реальную картину в данных и последующих исследованиях. \n",
    "        \n",
    "Распиши, пожалуйста, свой пример подробнее, признаюсь, что совсем не понял, что ты хотел донести до меня."
   ]
  },
  {
   "cell_type": "markdown",
   "id": "acb3c97c",
   "metadata": {},
   "source": [
    "Привожу реальный пример: если в городе 6 работающих людей. \n",
    "Где 1-й и 2-й зарабатывает 100к в месяц, 3-й -60к, а 4,5,6-й по 20к каждый.Средняя зарплата по городу будет 53к. \n",
    "Хотя половина работающего населения имеет зарплату значительно меньше, а если быть точным то 20к.\n",
    "Медианный расчет зарплаты по городу дал бы нам значение в 40к. Что является уже ближе к истине. \n",
    "Поэтому для количественных переменных лучше рассчитыать медиану, ибо максимальные и минимальные значения по таблице \n",
    "могут значительно отличаться от большинства значений."
   ]
  },
  {
   "cell_type": "markdown",
   "id": "99036e37",
   "metadata": {},
   "source": [
    "<div class=\"alert alert-success\">\n",
    "<h2> Комментарий ревьюера V2<a class=\"tocSkip\"> </h2>\n",
    "\n",
    "<b>Все отлично!👍:</b> Именно так, молодец, все корректно написал!\n",
    "</div>"
   ]
  },
  {
   "cell_type": "markdown",
   "id": "b09c334d",
   "metadata": {
    "deletable": false,
    "editable": false,
    "id": "6db5255a"
   },
   "source": [
    "###### Шаг 4: общий вывод."
   ]
  },
  {
   "cell_type": "markdown",
   "id": "a2eef78f",
   "metadata": {
    "deletable": false,
    "id": "bad65432"
   },
   "source": [
    "Целью данного проекта было исследование надежность заемщиков.\n",
    "\n",
    "Для проведения полноценного анализа мною была проведена предподготвка данных к анализу, а именно удаление пропусков, дубликатов и аномальных значений. \n",
    "Также мною в ходе работы была добавлен столбец для категоризации заемщиков по уровню их дохода.\n",
    "В ходе анализа факторами для рассмотрение надежности заемщика были: кол-во детей, семейный статус человека, уровень дохода, цель кредита.\n",
    "\n",
    "Подводя итог по анализу данных данного проекта я пришел к следущему выводу:\n",
    "Семейной положение, количество детей и цель получения кредита являются более весомыми индикаторами для банка в понимании насколько человек является надежным заемщиком.\n",
    "Уровень дохода тоже имеет значение, но меньшее, чем первые 3 фактора. \n",
    "Думаю это связано с тем, что банки так и так не будут готовы предоставить кредит на большую сумму человеку с маленьким доходом. \n",
    "Идаельный заемщик для банка: человек без семьи и детей, с высоким доходом, намеривающийся приобрести недвижимость."
   ]
  },
  {
   "cell_type": "markdown",
   "id": "30c3d4e3",
   "metadata": {},
   "source": [
    "<div class=\"alert alert-warning\">\n",
    "    <h2> Комментарий ревьюера V1<a class=\"tocSkip\"> </h2>\n",
    "    \n",
    "<b>Некоторые замечания и рекомендации💡:</b> Ты все правильно написал в итоговом выводе. Однако итоговый вывод - финальный результат всего твоего исследования. Его стоит начать с описания поставленной задачи, а затем должно идти описание всех проведенных исследований с большей информацией, чем написал сейчас ты. Что касается содержания вывода, то здесь все отлично, все правильно!"
   ]
  },
  {
   "cell_type": "markdown",
   "id": "f5c5f2e4",
   "metadata": {},
   "source": [
    "Целью данного проекта было исследование надежность заемщиков.\n",
    "\n",
    "Для проведения полноценного анализа мною была проведена предподготвка данных к анализу, а именно удаление пропусков, дубликатов и аномальных значений. \n",
    "Также мною в ходе работы была добавлен столбец для категоризации заемщиков по уровню их дохода.\n",
    "В ходе анализа факторами для рассмотрение надежности заемщика были: кол-во детей, семейный статус человека, уровень дохода, цель кредита.\n",
    "\n",
    "Подводя итог по анализу данных данного проекта я пришел к следущему выводу:\n",
    "Семейной положение, количество детей и цель получения кредита являются более весомыми индикаторами для банка в понимании насколько человек является надежным заемщиком.\n",
    "Уровень дохода тоже имеет значение, но меньшее, чем первые 3 фактора. \n",
    "Думаю это связано с тем, что банки так и так не будут готовы предоставить кредит на большую сумму человеку с маленьким доходом. \n",
    "Идаельный заемщик для банка: человек без семьи и детей, с высоким доходом, намеривающийся приобрести недвижимость."
   ]
  },
  {
   "cell_type": "markdown",
   "id": "5433d16e",
   "metadata": {},
   "source": [
    "<div class=\"alert alert-success\">\n",
    "<h2> Комментарий ревьюера V2<a class=\"tocSkip\"> </h2>\n",
    "\n",
    "<b>Все отлично!👍:</b> Абсолютно верно! Все четко, понятно и структурировано, молодец, что подробно перечислил все выявленные зависимости.\n",
    "</div>"
   ]
  },
  {
   "cell_type": "markdown",
   "id": "1ccd73cc",
   "metadata": {},
   "source": [
    "<div style=\"border:solid Chocolate 2px; padding: 40px\">\n",
    "\n",
    "**Общий вывод по проекту**\n",
    "\n",
    "Спасибо за твой проект! Я уверен, что ты приложил все усилия, чтобы сделать этот проект. Это видно по твоей работе, а сформулированные выводы отражают, насколько успешно ты осваиваешь материал. \n",
    "\n",
    "**Отмечу отдельные положительные моменты проекта🙂**:\n",
    " \n",
    "* Ты полностью следовал всем этапам выполнения задания и справился почти со всем. Хорошая работа!\n",
    "* Отдельно выделю некоторые выводы, которые ты смог сформулировать абсолютно точно!\n",
    "* У тебя опрятный и читаемый код. Возможно это звучит банально, однако при работе с чужим кодом это крайне важно)\n",
    "\n",
    "\n",
    "**На что стоит обратить внимание🤓**:\n",
    "    \n",
    "* Важно доработать итоговый вывод.\n",
    "* Какие еще причины могут быть причиной пропуской в данных\n",
    "* Рассмотреть как распределены данные при исследовании зависимости вероятности просрочки от количества детей.\n",
    "* Остальные рекомендации ты найдешь в моих комментариях!\n",
    "\n",
    "\n",
    "**Желаю удачи и жду твой проект на повторное ревью!**😉"
   ]
  },
  {
   "cell_type": "markdown",
   "id": "fd49ca6c",
   "metadata": {},
   "source": [
    "<div style=\"border:solid Chocolate 2px; padding: 40px\">\n",
    "\n",
    "**Общий вывод по проекту**\n",
    "\n",
    "**На что стоит обратить внимание🤓**:\n",
    "    \n",
    "\n",
    "* Нужно построить сводные таблицы во всех пунктах.\n",
    "* Остальные рекомендации ты найдешь в моих комментариях!\n",
    "\n",
    "\n",
    "**Желаю удачи и жду твой проект на повторное ревью!**😉"
   ]
  },
  {
   "cell_type": "markdown",
   "id": "077b0855",
   "metadata": {},
   "source": [
    "<div style=\"border:solid Chocolate 2px; padding: 40px\">\n",
    "\n",
    "Ты отлично справился с данной работой! Видно, как ты успешно осваиваешь материал, применяешь полученные знания на практике. Мне было очень приятно проверять твою работу, надеюсь, мои комментарии и советы были для тебя полезными.\n",
    "\n",
    "**Желаю удачи в последующем обучении и исследованиях!**😉"
   ]
  },
  {
   "cell_type": "code",
   "execution_count": null,
   "id": "1bb3ea06",
   "metadata": {},
   "outputs": [],
   "source": []
  }
 ],
 "metadata": {
  "ExecuteTimeLog": [
   {
    "duration": 46,
    "start_time": "2022-09-05T20:56:17.012Z"
   },
   {
    "duration": 6,
    "start_time": "2022-09-05T20:58:58.012Z"
   },
   {
    "duration": 2,
    "start_time": "2022-09-05T20:58:59.509Z"
   },
   {
    "duration": 3,
    "start_time": "2022-09-05T20:58:59.910Z"
   },
   {
    "duration": 3,
    "start_time": "2022-09-05T20:59:00.268Z"
   },
   {
    "duration": 6,
    "start_time": "2022-09-05T20:59:28.988Z"
   },
   {
    "duration": 6,
    "start_time": "2022-09-05T21:00:34.592Z"
   },
   {
    "duration": 7,
    "start_time": "2022-09-05T21:01:02.044Z"
   },
   {
    "duration": 6,
    "start_time": "2022-09-05T21:01:33.252Z"
   },
   {
    "duration": 6,
    "start_time": "2022-09-05T21:01:35.685Z"
   },
   {
    "duration": 6,
    "start_time": "2022-09-05T21:02:01.884Z"
   },
   {
    "duration": 6,
    "start_time": "2022-09-05T21:02:13.901Z"
   },
   {
    "duration": 3,
    "start_time": "2022-09-05T21:02:16.381Z"
   },
   {
    "duration": 339,
    "start_time": "2022-09-05T21:02:31.149Z"
   },
   {
    "duration": 75,
    "start_time": "2022-09-05T21:03:11.301Z"
   },
   {
    "duration": 75,
    "start_time": "2022-09-05T21:04:14.108Z"
   },
   {
    "duration": 77,
    "start_time": "2022-09-05T21:04:18.908Z"
   },
   {
    "duration": 74,
    "start_time": "2022-09-05T21:04:29.700Z"
   },
   {
    "duration": 6,
    "start_time": "2022-09-05T21:04:37.932Z"
   },
   {
    "duration": 45,
    "start_time": "2022-09-05T21:04:52.652Z"
   },
   {
    "duration": 693,
    "start_time": "2022-09-07T18:07:32.544Z"
   },
   {
    "duration": 6,
    "start_time": "2022-09-07T18:07:40.756Z"
   },
   {
    "duration": 76,
    "start_time": "2022-09-07T18:08:01.297Z"
   },
   {
    "duration": 24,
    "start_time": "2022-09-07T18:08:03.928Z"
   },
   {
    "duration": 14,
    "start_time": "2022-09-07T18:08:07.765Z"
   },
   {
    "duration": 10,
    "start_time": "2022-09-07T18:08:10.248Z"
   },
   {
    "duration": 31,
    "start_time": "2022-09-07T18:08:13.155Z"
   },
   {
    "duration": 4,
    "start_time": "2022-09-07T18:08:16.010Z"
   },
   {
    "duration": 8,
    "start_time": "2022-09-07T18:08:18.248Z"
   },
   {
    "duration": 5,
    "start_time": "2022-09-07T18:08:38.375Z"
   },
   {
    "duration": 13,
    "start_time": "2022-09-07T18:08:41.796Z"
   },
   {
    "duration": 5,
    "start_time": "2022-09-07T18:08:45.310Z"
   },
   {
    "duration": 38,
    "start_time": "2022-09-07T18:08:47.775Z"
   },
   {
    "duration": 8,
    "start_time": "2022-09-07T18:08:50.016Z"
   },
   {
    "duration": 3,
    "start_time": "2022-09-07T18:08:53.137Z"
   },
   {
    "duration": 15,
    "start_time": "2022-09-07T18:08:55.696Z"
   },
   {
    "duration": 21,
    "start_time": "2022-09-07T18:08:57.644Z"
   },
   {
    "duration": 23,
    "start_time": "2022-09-07T18:08:59.488Z"
   },
   {
    "duration": 10,
    "start_time": "2022-09-07T18:09:02.715Z"
   },
   {
    "duration": 9,
    "start_time": "2022-09-07T18:09:05.725Z"
   },
   {
    "duration": 5,
    "start_time": "2022-09-07T18:09:09.389Z"
   },
   {
    "duration": 4,
    "start_time": "2022-09-07T18:09:13.809Z"
   },
   {
    "duration": 7,
    "start_time": "2022-09-07T18:09:17.419Z"
   },
   {
    "duration": 8,
    "start_time": "2022-09-07T18:09:19.712Z"
   },
   {
    "duration": 6,
    "start_time": "2022-09-07T18:12:35.567Z"
   },
   {
    "duration": 9,
    "start_time": "2022-09-07T18:12:47.995Z"
   },
   {
    "duration": 49,
    "start_time": "2022-09-07T18:17:39.563Z"
   },
   {
    "duration": 443,
    "start_time": "2022-09-07T18:17:49.613Z"
   },
   {
    "duration": 22,
    "start_time": "2022-09-07T18:17:50.058Z"
   },
   {
    "duration": 13,
    "start_time": "2022-09-07T18:17:50.081Z"
   },
   {
    "duration": 10,
    "start_time": "2022-09-07T18:17:50.095Z"
   },
   {
    "duration": 31,
    "start_time": "2022-09-07T18:17:50.107Z"
   },
   {
    "duration": 3,
    "start_time": "2022-09-07T18:17:50.140Z"
   },
   {
    "duration": 11,
    "start_time": "2022-09-07T18:17:50.144Z"
   },
   {
    "duration": 4,
    "start_time": "2022-09-07T18:17:50.156Z"
   },
   {
    "duration": 39,
    "start_time": "2022-09-07T18:17:50.161Z"
   },
   {
    "duration": 4,
    "start_time": "2022-09-07T18:17:50.201Z"
   },
   {
    "duration": 33,
    "start_time": "2022-09-07T18:17:50.206Z"
   },
   {
    "duration": 9,
    "start_time": "2022-09-07T18:17:50.240Z"
   },
   {
    "duration": 4,
    "start_time": "2022-09-07T18:17:50.251Z"
   },
   {
    "duration": 10,
    "start_time": "2022-09-07T18:17:50.257Z"
   },
   {
    "duration": 20,
    "start_time": "2022-09-07T18:17:50.297Z"
   },
   {
    "duration": 15,
    "start_time": "2022-09-07T18:17:50.319Z"
   },
   {
    "duration": 10,
    "start_time": "2022-09-07T18:17:50.336Z"
   },
   {
    "duration": 12,
    "start_time": "2022-09-07T18:17:50.347Z"
   },
   {
    "duration": 11,
    "start_time": "2022-09-07T18:17:50.360Z"
   },
   {
    "duration": 26,
    "start_time": "2022-09-07T18:17:50.373Z"
   },
   {
    "duration": 10,
    "start_time": "2022-09-07T18:17:50.401Z"
   },
   {
    "duration": 6,
    "start_time": "2022-09-07T18:17:50.412Z"
   },
   {
    "duration": 8,
    "start_time": "2022-09-07T18:17:50.419Z"
   },
   {
    "duration": 10,
    "start_time": "2022-09-07T18:17:50.428Z"
   },
   {
    "duration": 2,
    "start_time": "2022-09-07T18:17:50.439Z"
   },
   {
    "duration": 10,
    "start_time": "2022-09-07T18:28:28.660Z"
   },
   {
    "duration": 13,
    "start_time": "2022-09-07T18:29:13.501Z"
   },
   {
    "duration": 71,
    "start_time": "2022-09-07T18:31:25.452Z"
   },
   {
    "duration": 9,
    "start_time": "2022-09-07T18:31:29.600Z"
   },
   {
    "duration": 9,
    "start_time": "2022-09-07T18:32:27.460Z"
   },
   {
    "duration": 9,
    "start_time": "2022-09-07T18:32:29.126Z"
   },
   {
    "duration": 9,
    "start_time": "2022-09-07T18:33:22.632Z"
   },
   {
    "duration": 9,
    "start_time": "2022-09-07T18:33:27.733Z"
   },
   {
    "duration": 18,
    "start_time": "2022-09-07T18:33:34.693Z"
   },
   {
    "duration": 9,
    "start_time": "2022-09-07T18:33:56.699Z"
   },
   {
    "duration": 16,
    "start_time": "2022-09-07T18:35:01.492Z"
   },
   {
    "duration": 21,
    "start_time": "2022-09-07T18:35:41.095Z"
   },
   {
    "duration": 11,
    "start_time": "2022-09-07T18:35:58.361Z"
   },
   {
    "duration": 12,
    "start_time": "2022-09-07T18:36:04.482Z"
   },
   {
    "duration": 9,
    "start_time": "2022-09-07T18:38:41.033Z"
   },
   {
    "duration": 10,
    "start_time": "2022-09-07T18:39:23.410Z"
   },
   {
    "duration": 8,
    "start_time": "2022-09-07T18:39:31.532Z"
   },
   {
    "duration": 10,
    "start_time": "2022-09-07T18:39:40.244Z"
   },
   {
    "duration": 56,
    "start_time": "2022-09-07T18:40:18.080Z"
   },
   {
    "duration": 11,
    "start_time": "2022-09-07T18:40:23.973Z"
   },
   {
    "duration": 9,
    "start_time": "2022-09-07T18:40:56.460Z"
   },
   {
    "duration": 46,
    "start_time": "2022-09-07T18:41:27.640Z"
   },
   {
    "duration": 12,
    "start_time": "2022-09-07T18:41:44.617Z"
   },
   {
    "duration": 9,
    "start_time": "2022-09-07T18:42:43.813Z"
   },
   {
    "duration": 10,
    "start_time": "2022-09-07T18:43:56.065Z"
   },
   {
    "duration": 9,
    "start_time": "2022-09-07T18:46:20.869Z"
   },
   {
    "duration": 9,
    "start_time": "2022-09-07T18:46:23.540Z"
   },
   {
    "duration": 8,
    "start_time": "2022-09-07T18:46:42.534Z"
   },
   {
    "duration": 16,
    "start_time": "2022-09-07T18:48:21.462Z"
   },
   {
    "duration": 16,
    "start_time": "2022-09-07T18:48:46.339Z"
   },
   {
    "duration": 12,
    "start_time": "2022-09-07T18:49:28.171Z"
   },
   {
    "duration": 8,
    "start_time": "2022-09-07T18:49:48.910Z"
   },
   {
    "duration": 18,
    "start_time": "2022-09-07T18:50:25.992Z"
   },
   {
    "duration": 9,
    "start_time": "2022-09-07T18:50:45.490Z"
   },
   {
    "duration": 8,
    "start_time": "2022-09-07T19:11:18.012Z"
   },
   {
    "duration": 6,
    "start_time": "2022-09-07T19:11:22.212Z"
   },
   {
    "duration": 8,
    "start_time": "2022-09-07T19:12:13.824Z"
   },
   {
    "duration": 8,
    "start_time": "2022-09-07T19:12:18.284Z"
   },
   {
    "duration": 5,
    "start_time": "2022-09-07T19:12:24.192Z"
   },
   {
    "duration": 54,
    "start_time": "2022-09-07T19:12:35.532Z"
   },
   {
    "duration": 5,
    "start_time": "2022-09-07T19:12:41.212Z"
   },
   {
    "duration": 10,
    "start_time": "2022-09-07T19:13:41.944Z"
   },
   {
    "duration": 8,
    "start_time": "2022-09-07T19:14:17.062Z"
   },
   {
    "duration": 7,
    "start_time": "2022-09-07T19:16:38.901Z"
   },
   {
    "duration": 8,
    "start_time": "2022-09-07T19:16:43.780Z"
   },
   {
    "duration": 5,
    "start_time": "2022-09-07T19:16:53.384Z"
   },
   {
    "duration": 90,
    "start_time": "2022-09-07T19:17:44.904Z"
   },
   {
    "duration": 42,
    "start_time": "2022-09-07T19:17:51.471Z"
   },
   {
    "duration": 51,
    "start_time": "2022-09-07T19:18:10.934Z"
   },
   {
    "duration": 14,
    "start_time": "2022-09-07T19:19:23.121Z"
   },
   {
    "duration": 14,
    "start_time": "2022-09-07T19:19:26.380Z"
   },
   {
    "duration": 18,
    "start_time": "2022-09-07T19:19:35.861Z"
   },
   {
    "duration": 8,
    "start_time": "2022-09-07T19:20:06.333Z"
   },
   {
    "duration": 13,
    "start_time": "2022-09-07T19:20:30.900Z"
   },
   {
    "duration": 7,
    "start_time": "2022-09-07T19:22:35.623Z"
   },
   {
    "duration": 3,
    "start_time": "2022-09-07T19:24:40.940Z"
   },
   {
    "duration": 9,
    "start_time": "2022-09-07T19:25:24.939Z"
   },
   {
    "duration": 9,
    "start_time": "2022-09-07T19:25:34.692Z"
   },
   {
    "duration": 9,
    "start_time": "2022-09-07T19:25:37.087Z"
   },
   {
    "duration": 13,
    "start_time": "2022-09-07T19:26:16.232Z"
   },
   {
    "duration": 13,
    "start_time": "2022-09-07T19:26:17.643Z"
   },
   {
    "duration": 17,
    "start_time": "2022-09-07T19:26:26.868Z"
   },
   {
    "duration": 27,
    "start_time": "2022-09-07T19:33:59.812Z"
   },
   {
    "duration": 18,
    "start_time": "2022-09-07T19:34:12.487Z"
   },
   {
    "duration": 8,
    "start_time": "2022-09-07T19:34:16.212Z"
   },
   {
    "duration": 52,
    "start_time": "2022-09-20T19:30:50.447Z"
   },
   {
    "duration": 59,
    "start_time": "2022-09-20T19:31:25.421Z"
   },
   {
    "duration": 553,
    "start_time": "2022-09-20T19:31:33.951Z"
   },
   {
    "duration": 40,
    "start_time": "2022-09-20T19:31:36.102Z"
   },
   {
    "duration": 21,
    "start_time": "2022-09-20T19:31:37.457Z"
   },
   {
    "duration": 11,
    "start_time": "2022-09-20T19:31:39.359Z"
   },
   {
    "duration": 30,
    "start_time": "2022-09-20T19:31:40.358Z"
   },
   {
    "duration": 9,
    "start_time": "2022-09-20T19:31:41.549Z"
   },
   {
    "duration": 8,
    "start_time": "2022-09-20T19:31:42.088Z"
   },
   {
    "duration": 5,
    "start_time": "2022-09-20T19:31:43.388Z"
   },
   {
    "duration": 7,
    "start_time": "2022-09-20T19:31:44.101Z"
   },
   {
    "duration": 5,
    "start_time": "2022-09-20T19:31:44.780Z"
   },
   {
    "duration": 46,
    "start_time": "2022-09-20T19:31:46.091Z"
   },
   {
    "duration": 10,
    "start_time": "2022-09-20T19:31:46.970Z"
   },
   {
    "duration": 4,
    "start_time": "2022-09-20T19:31:48.673Z"
   },
   {
    "duration": 18,
    "start_time": "2022-09-20T19:31:49.737Z"
   },
   {
    "duration": 19,
    "start_time": "2022-09-20T19:31:50.586Z"
   },
   {
    "duration": 17,
    "start_time": "2022-09-20T19:31:50.988Z"
   },
   {
    "duration": 7,
    "start_time": "2022-09-20T19:31:52.348Z"
   },
   {
    "duration": 12,
    "start_time": "2022-09-20T19:31:57.871Z"
   },
   {
    "duration": 8,
    "start_time": "2022-09-20T19:31:59.153Z"
   },
   {
    "duration": 5,
    "start_time": "2022-09-20T19:32:00.456Z"
   },
   {
    "duration": 23,
    "start_time": "2022-09-20T19:32:01.021Z"
   },
   {
    "duration": 32,
    "start_time": "2022-09-20T19:32:02.660Z"
   },
   {
    "duration": 7,
    "start_time": "2022-09-20T19:32:50.272Z"
   },
   {
    "duration": 284,
    "start_time": "2022-09-25T15:38:34.416Z"
   },
   {
    "duration": 260,
    "start_time": "2022-09-25T15:38:48.525Z"
   },
   {
    "duration": 20,
    "start_time": "2022-09-25T15:38:49.873Z"
   },
   {
    "duration": 12,
    "start_time": "2022-09-25T15:38:51.593Z"
   },
   {
    "duration": 8,
    "start_time": "2022-09-25T15:38:53.633Z"
   },
   {
    "duration": 29,
    "start_time": "2022-09-25T15:38:54.665Z"
   },
   {
    "duration": 3,
    "start_time": "2022-09-25T15:38:55.890Z"
   },
   {
    "duration": 9,
    "start_time": "2022-09-25T15:38:56.913Z"
   },
   {
    "duration": 4,
    "start_time": "2022-09-25T15:38:58.513Z"
   },
   {
    "duration": 6,
    "start_time": "2022-09-25T15:38:59.536Z"
   },
   {
    "duration": 5,
    "start_time": "2022-09-25T15:39:00.565Z"
   },
   {
    "duration": 31,
    "start_time": "2022-09-25T15:39:02.105Z"
   },
   {
    "duration": 9,
    "start_time": "2022-09-25T15:39:03.094Z"
   },
   {
    "duration": 4,
    "start_time": "2022-09-25T15:39:04.546Z"
   },
   {
    "duration": 12,
    "start_time": "2022-09-25T15:39:06.053Z"
   },
   {
    "duration": 19,
    "start_time": "2022-09-25T15:39:07.134Z"
   },
   {
    "duration": 15,
    "start_time": "2022-09-25T15:39:07.696Z"
   },
   {
    "duration": 3,
    "start_time": "2022-09-25T15:39:09.213Z"
   },
   {
    "duration": 9,
    "start_time": "2022-09-25T15:39:09.733Z"
   },
   {
    "duration": 5,
    "start_time": "2022-09-25T15:39:10.853Z"
   },
   {
    "duration": 3,
    "start_time": "2022-09-25T15:39:11.965Z"
   },
   {
    "duration": 8,
    "start_time": "2022-09-25T15:39:12.553Z"
   },
   {
    "duration": 32,
    "start_time": "2022-09-25T15:39:14.245Z"
   },
   {
    "duration": 13,
    "start_time": "2022-09-25T15:39:41.125Z"
   },
   {
    "duration": 13,
    "start_time": "2022-09-25T15:39:43.299Z"
   },
   {
    "duration": 6,
    "start_time": "2022-09-25T15:46:29.412Z"
   },
   {
    "duration": 13,
    "start_time": "2022-09-25T15:47:29.353Z"
   },
   {
    "duration": 8,
    "start_time": "2022-09-25T15:49:14.412Z"
   },
   {
    "duration": 8,
    "start_time": "2022-09-25T15:49:30.853Z"
   },
   {
    "duration": 9,
    "start_time": "2022-09-25T15:49:46.245Z"
   },
   {
    "duration": 7,
    "start_time": "2022-09-25T15:49:56.511Z"
   },
   {
    "duration": 15,
    "start_time": "2022-09-25T15:51:16.074Z"
   },
   {
    "duration": 18,
    "start_time": "2022-09-25T15:51:34.014Z"
   },
   {
    "duration": 14,
    "start_time": "2022-09-25T15:51:38.734Z"
   },
   {
    "duration": 10,
    "start_time": "2022-09-25T15:53:14.368Z"
   },
   {
    "duration": 7,
    "start_time": "2022-09-25T15:53:23.832Z"
   },
   {
    "duration": 11,
    "start_time": "2022-09-25T15:55:24.636Z"
   },
   {
    "duration": 7,
    "start_time": "2022-09-25T15:55:31.708Z"
   },
   {
    "duration": 74,
    "start_time": "2022-09-25T15:59:59.374Z"
   },
   {
    "duration": 12,
    "start_time": "2022-09-25T16:00:14.275Z"
   },
   {
    "duration": 13,
    "start_time": "2022-09-25T16:00:32.105Z"
   },
   {
    "duration": 8,
    "start_time": "2022-09-25T16:00:45.026Z"
   },
   {
    "duration": 12,
    "start_time": "2022-09-25T16:00:52.755Z"
   },
   {
    "duration": 420,
    "start_time": "2022-09-25T16:05:05.538Z"
   },
   {
    "duration": 5,
    "start_time": "2022-09-25T16:05:13.537Z"
   },
   {
    "duration": 9,
    "start_time": "2022-09-25T16:07:44.138Z"
   },
   {
    "duration": 7,
    "start_time": "2022-09-25T16:07:54.671Z"
   },
   {
    "duration": 11,
    "start_time": "2022-09-25T16:07:59.350Z"
   },
   {
    "duration": 6,
    "start_time": "2022-09-25T16:08:06.931Z"
   },
   {
    "duration": 9,
    "start_time": "2022-09-25T16:09:26.910Z"
   },
   {
    "duration": 6,
    "start_time": "2022-09-25T16:09:32.970Z"
   },
   {
    "duration": 11,
    "start_time": "2022-09-25T16:18:44.569Z"
   },
   {
    "duration": 10,
    "start_time": "2022-09-25T16:18:49.996Z"
   },
   {
    "duration": 13,
    "start_time": "2022-09-25T16:19:17.009Z"
   },
   {
    "duration": 16,
    "start_time": "2022-09-25T16:21:25.969Z"
   },
   {
    "duration": 18,
    "start_time": "2022-09-25T16:22:31.348Z"
   },
   {
    "duration": 57,
    "start_time": "2022-09-25T18:18:46.351Z"
   },
   {
    "duration": 6,
    "start_time": "2022-09-25T18:19:03.952Z"
   },
   {
    "duration": 7,
    "start_time": "2022-09-25T18:19:05.812Z"
   },
   {
    "duration": 52,
    "start_time": "2022-09-25T18:19:27.171Z"
   },
   {
    "duration": 7,
    "start_time": "2022-09-25T18:19:29.470Z"
   },
   {
    "duration": 6,
    "start_time": "2022-09-25T18:19:34.431Z"
   },
   {
    "duration": 559,
    "start_time": "2022-09-25T18:19:42.192Z"
   },
   {
    "duration": 25,
    "start_time": "2022-09-25T18:19:45.224Z"
   },
   {
    "duration": 16,
    "start_time": "2022-09-25T18:19:51.151Z"
   },
   {
    "duration": 11,
    "start_time": "2022-09-25T18:19:54.730Z"
   },
   {
    "duration": 36,
    "start_time": "2022-09-25T18:19:57.839Z"
   },
   {
    "duration": 35,
    "start_time": "2022-09-25T18:20:07.131Z"
   },
   {
    "duration": 5,
    "start_time": "2022-09-25T18:20:10.811Z"
   },
   {
    "duration": 9,
    "start_time": "2022-09-25T18:20:14.059Z"
   },
   {
    "duration": 5,
    "start_time": "2022-09-25T18:20:16.660Z"
   },
   {
    "duration": 8,
    "start_time": "2022-09-25T18:20:19.696Z"
   },
   {
    "duration": 7,
    "start_time": "2022-09-25T18:20:21.390Z"
   },
   {
    "duration": 42,
    "start_time": "2022-09-25T18:20:23.487Z"
   },
   {
    "duration": 11,
    "start_time": "2022-09-25T18:20:26.370Z"
   },
   {
    "duration": 4,
    "start_time": "2022-09-25T18:20:29.310Z"
   },
   {
    "duration": 12,
    "start_time": "2022-09-25T18:20:32.222Z"
   },
   {
    "duration": 26,
    "start_time": "2022-09-25T18:20:34.483Z"
   },
   {
    "duration": 17,
    "start_time": "2022-09-25T18:20:36.551Z"
   },
   {
    "duration": 3,
    "start_time": "2022-09-25T18:20:39.151Z"
   },
   {
    "duration": 16,
    "start_time": "2022-09-25T18:20:41.602Z"
   },
   {
    "duration": 7,
    "start_time": "2022-09-25T18:20:43.843Z"
   },
   {
    "duration": 5,
    "start_time": "2022-09-25T18:20:57.044Z"
   },
   {
    "duration": 3,
    "start_time": "2022-09-25T18:21:00.204Z"
   },
   {
    "duration": 6,
    "start_time": "2022-09-25T18:21:05.503Z"
   },
   {
    "duration": 18,
    "start_time": "2022-09-25T18:40:23.009Z"
   },
   {
    "duration": 16,
    "start_time": "2022-09-25T18:40:25.278Z"
   },
   {
    "duration": 17,
    "start_time": "2022-09-25T18:40:45.052Z"
   },
   {
    "duration": 19,
    "start_time": "2022-09-25T18:41:10.396Z"
   },
   {
    "duration": 20,
    "start_time": "2022-09-25T18:42:44.492Z"
   },
   {
    "duration": 18,
    "start_time": "2022-09-25T18:43:44.470Z"
   },
   {
    "duration": 10,
    "start_time": "2022-09-25T18:44:18.229Z"
   },
   {
    "duration": 18,
    "start_time": "2022-09-25T18:44:27.570Z"
   },
   {
    "duration": 78,
    "start_time": "2022-09-25T18:45:10.021Z"
   },
   {
    "duration": 16,
    "start_time": "2022-09-25T18:45:12.680Z"
   },
   {
    "duration": 16,
    "start_time": "2022-09-25T18:45:13.668Z"
   },
   {
    "duration": 11,
    "start_time": "2022-09-25T18:45:15.420Z"
   },
   {
    "duration": 38,
    "start_time": "2022-09-25T18:45:16.300Z"
   },
   {
    "duration": 4,
    "start_time": "2022-09-25T18:45:17.440Z"
   },
   {
    "duration": 9,
    "start_time": "2022-09-25T18:45:18.276Z"
   },
   {
    "duration": 5,
    "start_time": "2022-09-25T18:45:19.388Z"
   },
   {
    "duration": 6,
    "start_time": "2022-09-25T18:45:20.200Z"
   },
   {
    "duration": 5,
    "start_time": "2022-09-25T18:45:20.916Z"
   },
   {
    "duration": 40,
    "start_time": "2022-09-25T18:45:22.048Z"
   },
   {
    "duration": 10,
    "start_time": "2022-09-25T18:45:22.680Z"
   },
   {
    "duration": 4,
    "start_time": "2022-09-25T18:45:23.803Z"
   },
   {
    "duration": 10,
    "start_time": "2022-09-25T18:45:24.988Z"
   },
   {
    "duration": 20,
    "start_time": "2022-09-25T18:45:25.808Z"
   },
   {
    "duration": 19,
    "start_time": "2022-09-25T18:45:26.220Z"
   },
   {
    "duration": 4,
    "start_time": "2022-09-25T18:45:27.590Z"
   },
   {
    "duration": 11,
    "start_time": "2022-09-25T18:45:28.050Z"
   },
   {
    "duration": 7,
    "start_time": "2022-09-25T18:45:29.088Z"
   },
   {
    "duration": 4,
    "start_time": "2022-09-25T18:45:30.168Z"
   },
   {
    "duration": 9,
    "start_time": "2022-09-25T18:45:30.696Z"
   },
   {
    "duration": 20,
    "start_time": "2022-09-25T18:45:32.168Z"
   },
   {
    "duration": 82,
    "start_time": "2022-09-25T18:45:34.888Z"
   },
   {
    "duration": 678,
    "start_time": "2022-09-25T19:34:26.939Z"
   },
   {
    "duration": 20,
    "start_time": "2022-09-25T19:34:27.619Z"
   },
   {
    "duration": 15,
    "start_time": "2022-09-25T19:34:27.640Z"
   },
   {
    "duration": 8,
    "start_time": "2022-09-25T19:34:27.657Z"
   },
   {
    "duration": 45,
    "start_time": "2022-09-25T19:34:27.666Z"
   },
   {
    "duration": 3,
    "start_time": "2022-09-25T19:34:27.713Z"
   },
   {
    "duration": 10,
    "start_time": "2022-09-25T19:34:27.718Z"
   },
   {
    "duration": 5,
    "start_time": "2022-09-25T19:34:27.729Z"
   },
   {
    "duration": 9,
    "start_time": "2022-09-25T19:34:27.735Z"
   },
   {
    "duration": 6,
    "start_time": "2022-09-25T19:34:27.747Z"
   },
   {
    "duration": 54,
    "start_time": "2022-09-25T19:34:27.755Z"
   },
   {
    "duration": 11,
    "start_time": "2022-09-25T19:34:27.811Z"
   },
   {
    "duration": 6,
    "start_time": "2022-09-25T19:34:27.824Z"
   },
   {
    "duration": 19,
    "start_time": "2022-09-25T19:34:27.831Z"
   },
   {
    "duration": 21,
    "start_time": "2022-09-25T19:34:27.851Z"
   },
   {
    "duration": 16,
    "start_time": "2022-09-25T19:34:27.874Z"
   },
   {
    "duration": 4,
    "start_time": "2022-09-25T19:34:27.908Z"
   },
   {
    "duration": 11,
    "start_time": "2022-09-25T19:34:27.913Z"
   },
   {
    "duration": 6,
    "start_time": "2022-09-25T19:34:27.925Z"
   },
   {
    "duration": 4,
    "start_time": "2022-09-25T19:34:27.932Z"
   },
   {
    "duration": 10,
    "start_time": "2022-09-25T19:34:27.937Z"
   },
   {
    "duration": 20,
    "start_time": "2022-09-25T19:34:27.948Z"
   },
   {
    "duration": 7,
    "start_time": "2022-09-25T19:34:27.969Z"
   },
   {
    "duration": 49,
    "start_time": "2022-09-25T19:34:27.977Z"
   },
   {
    "duration": 6,
    "start_time": "2022-09-25T19:34:28.028Z"
   }
  ],
  "colab": {
   "name": "dpp_template_part2.ipynb",
   "provenance": []
  },
  "kernelspec": {
   "display_name": "Python 3 (ipykernel)",
   "language": "python",
   "name": "python3"
  },
  "language_info": {
   "codemirror_mode": {
    "name": "ipython",
    "version": 3
   },
   "file_extension": ".py",
   "mimetype": "text/x-python",
   "name": "python",
   "nbconvert_exporter": "python",
   "pygments_lexer": "ipython3",
   "version": "3.9.5"
  },
  "toc": {
   "base_numbering": 1,
   "nav_menu": {},
   "number_sections": true,
   "sideBar": true,
   "skip_h1_title": true,
   "title_cell": "Table of Contents",
   "title_sidebar": "Contents",
   "toc_cell": false,
   "toc_position": {},
   "toc_section_display": true,
   "toc_window_display": false
  }
 },
 "nbformat": 4,
 "nbformat_minor": 5
}
